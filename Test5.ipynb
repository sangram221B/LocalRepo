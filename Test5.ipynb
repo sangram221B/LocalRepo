{
 "cells": [
  {
   "cell_type": "code",
   "execution_count": 7,
   "metadata": {},
   "outputs": [
    {
     "name": "stdout",
     "output_type": "stream",
     "text": [
      "Hello Sangram , Have a nice day\n",
      "This is a test script for Python 3\n",
      "This is a test script for Python 123456789\n",
<<<<<<< HEAD
      "This is a test script for Python 1234567456789\n"
=======
      "This is a test script for Python 1234567890\n",
      "This is a test script for Python 12345678901234567890\n"
>>>>>>> feature2
     ]
    }
   ],
   "source": [
    "# This is for a testing purpose\n",
    "print(\"Hello Sangram , Have a nice day\")\n",
    "print(\"This is a test script for Python 3\")\n",
    "print(\"This is a test script for Python 123456789\")\n",
<<<<<<< HEAD
    "# print(\"This is a test script for Python 1234567456789\")\n"
=======
    "print(\"This is a test script for Python 1234567890\")\n",
    "print(\"This is a test script for Python 12345678901234567890\")\n"
>>>>>>> feature2
   ]
  },
  {
   "cell_type": "code",
   "execution_count": null,
   "metadata": {},
   "outputs": [],
   "source": [
    "#thsi si a test script for Python 12345678901234567890123456789012345678901234567890\n",
    "print(\"This is a test script for Python 123456789012345678901234567890123456789012345678901234567890\")\n",
    "print(\"This is a test script for Python 1234567890123456789012345678901234567890123456789012345678901234567890\")"
   ]
  }
 ],
 "metadata": {
  "kernelspec": {
   "display_name": "Python 3",
   "language": "python",
   "name": "python3"
  },
  "language_info": {
   "codemirror_mode": {
    "name": "ipython",
    "version": 3
   },
   "file_extension": ".py",
   "mimetype": "text/x-python",
   "name": "python",
   "nbconvert_exporter": "python",
   "pygments_lexer": "ipython3",
   "version": "3.13.2"
  }
 },
 "nbformat": 4,
 "nbformat_minor": 2
}
